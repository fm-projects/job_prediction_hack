{
 "cells": [
  {
   "cell_type": "markdown",
   "metadata": {},
   "source": [
    "Импортируем нужные библиотеки"
   ]
  },
  {
   "cell_type": "code",
   "execution_count": null,
   "metadata": {},
   "outputs": [],
   "source": [
    "import numpy as np\n",
    "import pandas as pd\n",
    "import matplotlib.pyplot as plt\n",
    "import pymorphy2\n",
    "import pymystem3\n",
    "import re\n",
    "import pickle\n",
    "from tqdm import tqdm"
   ]
  },
  {
   "attachments": {},
   "cell_type": "markdown",
   "metadata": {},
   "source": [
    "Прочитаем файл и очистим текст (для примера используются только первые 1000 строк файла)"
   ]
  },
  {
   "cell_type": "code",
   "execution_count": null,
   "metadata": {},
   "outputs": [],
   "source": [
    "def clean_text(text: str):\n",
    "    return re.sub(r'[^A-Za-z0-9А-Яа-яЁё]+', ' ', text)\n",
    "\n",
    "lines = []\n",
    "\n",
    "with open('JOB_LIST.csv', 'r', encoding=\"utf-8\", errors='ignore') as f:\n",
    "    for i in range(1000):\n",
    "        lines.append(clean_text(f.readline()).strip())\n",
    "    lines = lines[1:]\n",
    "        \n",
    "lines[:3]"
   ]
  },
  {
   "attachments": {},
   "cell_type": "markdown",
   "metadata": {},
   "source": [
    "Пропишем, как будет определяться ключевое слово, по которому будем группировать. В нашем случае будет выделяться нормальная форма \"главного\" существительного, которое первым по порядку встречается в строке "
   ]
  },
  {
   "cell_type": "code",
   "execution_count": null,
   "metadata": {},
   "outputs": [],
   "source": [
    "morph = pymorphy2.MorphAnalyzer()\n",
    "\n",
    "def lemm_and_noun(word: str):\n",
    "    parsed = morph.parse(word)\n",
    "    is_noun = True\n",
    "    if len(parsed) > 1:\n",
    "        is_noun = 'ADJF' not in parsed[1].tag\n",
    "    return parsed[0].normal_form, ('NOUN' in parsed[0].tag) and is_noun"
   ]
  },
  {
   "attachments": {},
   "cell_type": "markdown",
   "metadata": {},
   "source": [
    "Создадим словарь, где ключами являются нормализованные \"главные\" существительные, а значениями - полные названия профессий из файла"
   ]
  },
  {
   "cell_type": "code",
   "execution_count": null,
   "metadata": {},
   "outputs": [],
   "source": [
    "dct = {}\n",
    "\n",
    "for line in tqdm(lines):\n",
    "    for word in line.split():\n",
    "        norm, is_noun = lemm_and_noun(word)\n",
    "        if is_noun:\n",
    "            dct[norm] = dct.get(norm, []) + [line]"
   ]
  },
  {
   "cell_type": "code",
   "execution_count": null,
   "metadata": {},
   "outputs": [],
   "source": [
    "dct"
   ]
  },
  {
   "attachments": {},
   "cell_type": "markdown",
   "metadata": {},
   "source": [
    "Итоговый словарь является результатом группировки похожих профессий"
   ]
  }
 ],
 "metadata": {
  "kernelspec": {
   "display_name": "Python 3",
   "language": "python",
   "name": "python3"
  },
  "language_info": {
   "codemirror_mode": {
    "name": "ipython",
    "version": 3
   },
   "file_extension": ".py",
   "mimetype": "text/x-python",
   "name": "python",
   "nbconvert_exporter": "python",
   "pygments_lexer": "ipython3",
   "version": "3.10.14"
  },
  "orig_nbformat": 4
 },
 "nbformat": 4,
 "nbformat_minor": 2
}
